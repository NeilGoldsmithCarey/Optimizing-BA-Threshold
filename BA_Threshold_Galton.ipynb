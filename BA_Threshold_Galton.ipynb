{
  "nbformat": 4,
  "nbformat_minor": 0,
  "metadata": {
    "colab": {
      "provenance": []
    },
    "kernelspec": {
      "name": "python3",
      "display_name": "Python 3"
    },
    "language_info": {
      "name": "python"
    }
  },
  "cells": [
    {
      "cell_type": "markdown",
      "source": [
        "# Balanced Accuracy for Rebalanced Galton Height Dataset"
      ],
      "metadata": {
        "id": "xEakCO58EIE1"
      }
    },
    {
      "cell_type": "markdown",
      "source": [
        "**Authors: Benjamin F. Dribus, Jamie Hill, Neil Goldsmith, Daniel Martingano**\n",
        "\n",
        "**(\"Optimizing Balanced Accuracy in Medical Data Threshold Models\")**\n",
        "\n",
        "\n"
      ],
      "metadata": {
        "id": "R8_kKvHSyDgk"
      }
    },
    {
      "cell_type": "markdown",
      "source": [
        "## Instructions"
      ],
      "metadata": {
        "id": "Oxmxp6PRzBLk"
      }
    },
    {
      "cell_type": "markdown",
      "source": [
        "The easiest way to use this notebook is to upload the data file Galton.csv to Google Drive and upload this notebook to Google Colab. Once you have done this, all the cells should run exactly as written.\n",
        "\n"
      ],
      "metadata": {
        "id": "-wfQnt8HzTMb"
      }
    },
    {
      "cell_type": "markdown",
      "source": [
        "## Brief Background"
      ],
      "metadata": {
        "id": "lAQPj4UK4Cjk"
      }
    },
    {
      "cell_type": "markdown",
      "source": [
        "The purpose of this notebook is to test the balanced accuracy of categorical models derived from least-squares regression models constructed from various rebalanced versions of Galton's height dataset.  The background and motivation is described in detail in our paper \"Optimizing Balanced Accuracy in Medical Data Threshold Models\".\n",
        "\n",
        "We briefly explain the problem for those who may not have read the paper.\n",
        "\n",
        "1. Many data problems related to life sciences involve real-valued data partitioned into classes via a threshold $L$. In the present case, we partition male offspring in Galton's dataset into those of less than height $L$ (Class 1) and those of at least height $L$ (Class 2).\n",
        "\n",
        "2. The choice of threshold $L$ is usually determined by practical considerations; for example, male offspring above a certain height might be at higher risk for certain medical conditions.\n",
        "\n",
        "3. We then construct a least-squares regression model to predict the height of a male child given his mother's height. The slope $m$ of the regression model in a suitable coordinate system measures the extent to which the variables are correlated.\n",
        "\n",
        "4. In the present study, we are only interested in whether or not the model correctly predicts if the child is in Class 1 or Class 2. The resulting classification is called the *derived categorical model* corresponding to the regression model.\n",
        "\n",
        "5. The *balanced accuracy* $\\mathscr{B}$ of the derived categorical model is the average of its accuracy for Class 1 and Class 2.  For example, if Class 1 has significantly more members than Class 2 (called *class imbalance*), then each individual member of the small Class 2 counts more toward $\\mathscr{B}$ than each individual member of the common Class 1.\n",
        "\n",
        "6. We can rebalance the classes by assigning a weight $\\lambda$ to Class 1 and a complementary weight $(1-\\lambda)$ to Class 2. Each choice of $\\lambda$ produces a different regression model, and therefore (typically) a different derived categorical model with a different value of $\\mathscr{B}$.\n",
        "\n",
        "7. Our main question is then, **\"What choice of $\\lambda$ optimizes $\\mathscr{B}$ for a given threshold $L$ and slope $m$?\"**\n",
        "\n",
        "8. Theorem 1 in our paper prescribes an optimal choice of $\\lambda$ for bivariate normal data, which may be applied via a calculator app such as Desmos or via the fast C++ software in the same GitHub repository as this notebook.  The same code used in this notebook may be used to find the optimal value of $\\lambda$ empirically for any bivariate dataset."
      ],
      "metadata": {
        "id": "46M-pFeK4GHC"
      }
    },
    {
      "cell_type": "code",
      "source": [
        "import tensorflow as tf\n",
        "import pandas as pd\n",
        "import numpy as np\n",
        "import matplotlib.pyplot as plt\n",
        "import math"
      ],
      "metadata": {
        "id": "RvHFCDTOMd7g"
      },
      "execution_count": 24,
      "outputs": []
    },
    {
      "cell_type": "code",
      "source": [
        "from google.colab import drive\n",
        "drive.mount('/content/drive')"
      ],
      "metadata": {
        "colab": {
          "base_uri": "https://localhost:8080/"
        },
        "id": "BtTCP8JsMlm9",
        "outputId": "a3ca750e-fc9e-4050-84ef-baa0cd337e5c"
      },
      "execution_count": 2,
      "outputs": [
        {
          "output_type": "stream",
          "name": "stdout",
          "text": [
            "Mounted at /content/drive\n"
          ]
        }
      ]
    },
    {
      "cell_type": "code",
      "source": [
        "df=pd.read_csv('/content/drive/MyDrive/Galton.csv')"
      ],
      "metadata": {
        "id": "hML-oN9eMlj1"
      },
      "execution_count": 3,
      "outputs": []
    },
    {
      "cell_type": "markdown",
      "source": [
        "## Select Mother/Male Child Subset"
      ],
      "metadata": {
        "id": "W5n1RZBvf7zn"
      }
    },
    {
      "cell_type": "code",
      "source": [
        "dfm=df.loc[(df['sex'] == 'M')]\n",
        "df_mb=dfm[['mother','height']].copy()\n",
        "df_momboy=df_mb.reset_index(drop=True)\n",
        "momboy_size=df_momboy.shape[0]"
      ],
      "metadata": {
        "id": "opzJlgelf7zo"
      },
      "execution_count": 4,
      "outputs": []
    },
    {
      "cell_type": "code",
      "source": [
        "array1_mb=np.zeros((momboy_size, 2))\n",
        "for i in range(0,momboy_size):\n",
        "  array1_mb[i][0]=df_momboy.iloc[i,0]\n",
        "  array1_mb[i][1]=df_momboy.iloc[i,1]\n",
        "df1=pd.DataFrame(array1_mb, columns = ['mom','boy'])"
      ],
      "metadata": {
        "id": "XX41oASHf7zs"
      },
      "execution_count": 5,
      "outputs": []
    },
    {
      "cell_type": "code",
      "source": [
        "mom_mean=df1[\"mom\"].mean()\n",
        "mom_std=df1[\"mom\"].std()\n",
        "boy_mean=df1[\"boy\"].mean()\n",
        "boy_std=df1[\"boy\"].std()\n",
        "print(\"mean mom: \", round(mom_mean,3))\n",
        "print(\"std mom: \", round(mom_std,3))\n",
        "print(\"mean boy: \", round(boy_mean,3))\n",
        "print(\"std boy: \", round(boy_std,3))"
      ],
      "metadata": {
        "colab": {
          "base_uri": "https://localhost:8080/"
        },
        "outputId": "e9e34fe7-ec4e-4770-efc6-97e566bd9f15",
        "id": "CbsnPUphf7zs"
      },
      "execution_count": 6,
      "outputs": [
        {
          "output_type": "stream",
          "name": "stdout",
          "text": [
            "mean mom:  64.005\n",
            "std mom:  2.334\n",
            "mean boy:  69.229\n",
            "std boy:  2.632\n"
          ]
        }
      ]
    },
    {
      "cell_type": "markdown",
      "source": [
        "###Compute Raw Linear Relationship using Least Squares"
      ],
      "metadata": {
        "id": "DL50t727f7zt"
      }
    },
    {
      "cell_type": "code",
      "source": [
        "A_raw=0\n",
        "B_raw=0\n",
        "C_raw=0\n",
        "D_raw=0\n",
        "for i in range(0,momboy_size):\n",
        "  A_raw+=array1_mb[i][0]*array1_mb[i][0]\n",
        "  B_raw+=array1_mb[i][0]\n",
        "  C_raw+=array1_mb[i][0]*array1_mb[i][1]\n",
        "  D_raw+=array1_mb[i][1]\n",
        "#print(A_raw,B_raw,C_raw,D_raw)\n",
        "A=A_raw/momboy_size\n",
        "B=B_raw/momboy_size\n",
        "C=C_raw/momboy_size\n",
        "D=D_raw/momboy_size\n",
        "raw_slope=(C-B*D)/(A-B*B)\n",
        "raw_intercept=(A*D-B*C)/(A-B*B)\n",
        "print(\"raw slope: \", round(raw_slope,3), \"raw intercept: \", round(raw_intercept,3))"
      ],
      "metadata": {
        "colab": {
          "base_uri": "https://localhost:8080/"
        },
        "outputId": "c2efb73f-f03d-4ecb-b93f-d5b85378f0ca",
        "id": "qFozcdgnf7zu"
      },
      "execution_count": 7,
      "outputs": [
        {
          "output_type": "stream",
          "name": "stdout",
          "text": [
            "raw slope:  0.377 raw intercept:  45.119\n"
          ]
        }
      ]
    },
    {
      "cell_type": "markdown",
      "source": [
        "###Center Coordinates"
      ],
      "metadata": {
        "id": "Wg1MNfEpf7zu"
      }
    },
    {
      "cell_type": "code",
      "source": [
        "raw_size=momboy_size\n",
        "array1=array1_mb\n",
        "array2=np.zeros((raw_size, 2))\n",
        "for i in range(0,raw_size):\n",
        "  array2[i][0]=array1[i][0]-mom_mean\n",
        "  array2[i][1]=array1[i][1]-boy_mean"
      ],
      "metadata": {
        "id": "3Ve4or17f7zv"
      },
      "execution_count": 8,
      "outputs": []
    },
    {
      "cell_type": "markdown",
      "source": [
        "###Subtract Linear Relationship"
      ],
      "metadata": {
        "id": "_3s42Slxf7zv"
      }
    },
    {
      "cell_type": "code",
      "source": [
        "array3=np.zeros((raw_size, 2))\n",
        "for i in range(0,raw_size):\n",
        "  array3[i][0]=array2[i][0]\n",
        "  array3[i][1]=array2[i][1]-raw_slope*array2[i][0]\n",
        "df2=pd.DataFrame(array3, columns = ['mom','boy'])"
      ],
      "metadata": {
        "id": "qLzi1Rdxf7zv"
      },
      "execution_count": 9,
      "outputs": []
    },
    {
      "cell_type": "markdown",
      "source": [
        "###Compute Means and Standard Deviations"
      ],
      "metadata": {
        "id": "6hl58ocWf7zw"
      }
    },
    {
      "cell_type": "code",
      "source": [
        "mom_mean2=df2[\"mom\"].mean()\n",
        "mom_std2=df2[\"mom\"].std()\n",
        "boy_mean2=df2[\"boy\"].mean()\n",
        "boy_std2=df2[\"boy\"].std()\n",
        "print(\"mean mom: \", round(mom_mean2,3))\n",
        "print(\"std mom: \", round(mom_std2,3))\n",
        "print(\"mean boy: \", round(boy_mean2,3))\n",
        "print(\"std boy: \", round(boy_std2,3))"
      ],
      "metadata": {
        "colab": {
          "base_uri": "https://localhost:8080/"
        },
        "outputId": "7ad47948-7f67-411a-e00d-b998388c820d",
        "id": "ETwZdj6Ff7zw"
      },
      "execution_count": 10,
      "outputs": [
        {
          "output_type": "stream",
          "name": "stdout",
          "text": [
            "mean mom:  -0.0\n",
            "std mom:  2.334\n",
            "mean boy:  -0.0\n",
            "std boy:  2.48\n"
          ]
        }
      ]
    },
    {
      "cell_type": "markdown",
      "source": [
        "###Restore Linear Relationship"
      ],
      "metadata": {
        "id": "h5j-rE0Vf7zw"
      }
    },
    {
      "cell_type": "code",
      "source": [
        "array4=np.zeros((raw_size, 2))\n",
        "for i in range(0,raw_size):\n",
        "  array4[i][0]=df2.iloc[i,0]\n",
        "  array4[i][1]=df2.iloc[i,1]+raw_slope*df2.iloc[i,0]\n",
        "df3= pd.DataFrame(array4, columns = ['mom','boy'])"
      ],
      "metadata": {
        "id": "K9_sC2D9f7zx"
      },
      "execution_count": 11,
      "outputs": []
    },
    {
      "cell_type": "markdown",
      "source": [
        "###Write in Standard Coordinates"
      ],
      "metadata": {
        "id": "72gEErdnf7zy"
      }
    },
    {
      "cell_type": "code",
      "source": [
        "#purposely uses standard deviations with linear relationship subtracted\n",
        "array5=np.zeros((raw_size, 2))\n",
        "for i in range(0,raw_size):\n",
        "  array5[i][0]=df3.iloc[i,0]/mom_std2\n",
        "  array5[i][1]=df3.iloc[i,1]/boy_std2\n",
        "df4= pd.DataFrame(array5, columns = ['mom','boy'])"
      ],
      "metadata": {
        "id": "yjHXAKzFf7zy"
      },
      "execution_count": 12,
      "outputs": []
    },
    {
      "cell_type": "markdown",
      "source": [
        "###Determine Linear Relationship in Standard Coordinates"
      ],
      "metadata": {
        "id": "zyZki13pf7zz"
      }
    },
    {
      "cell_type": "code",
      "source": [
        "A_raw=0\n",
        "B_raw=0\n",
        "C_raw=0\n",
        "D_raw=0\n",
        "for i in range(0,raw_size):\n",
        "  A_raw+=array5[i][0]*array5[i][0]\n",
        "  B_raw+=array5[i][0]\n",
        "  C_raw+=array5[i][0]*array5[i][1]\n",
        "  D_raw+=array5[i][1]\n",
        "A=A_raw/raw_size\n",
        "B=B_raw/raw_size\n",
        "C=C_raw/raw_size\n",
        "D=D_raw/raw_size\n",
        "slope=(C-B*D)/(A-B*B)\n",
        "intercept=(A*D-B*C)/(A-B*B)\n",
        "print(\"Standard slope: m =\", round(slope,5))\n",
        "print(\"Standard intercept: \", round(intercept,3), \"(should be 0)\")"
      ],
      "metadata": {
        "colab": {
          "base_uri": "https://localhost:8080/"
        },
        "outputId": "eeb136e9-725d-4705-a120-db3e2d822487",
        "id": "jjRBOuYZf7zz"
      },
      "execution_count": 15,
      "outputs": [
        {
          "output_type": "stream",
          "name": "stdout",
          "text": [
            "Standard slope: m = 0.35451\n",
            "Standard intercept:  -0.0 (should be 0)\n"
          ]
        }
      ]
    },
    {
      "cell_type": "markdown",
      "source": [
        "###Export Dataframe (if desired)"
      ],
      "metadata": {
        "id": "gydpCCZAf7zz"
      }
    },
    {
      "cell_type": "code",
      "source": [
        "#df5=df4.sample(frac = 1).reset_index(drop=True)      #shuffle\n",
        "#df5.to_csv('galton_momboy.csv',index=False)\n",
        "#!cp galton_momboy.csv '/content/drive/My Drive/'"
      ],
      "metadata": {
        "id": "y1NWmFV2f7z0"
      },
      "execution_count": 16,
      "outputs": []
    },
    {
      "cell_type": "markdown",
      "source": [
        "###Impose Threshold and Construct Positive and Negative Dataframes"
      ],
      "metadata": {
        "id": "SvGy7HGif7z0"
      }
    },
    {
      "cell_type": "code",
      "source": [
        "L=2\n",
        "pos_df=df4.loc[df4['boy'] >= L]\n",
        "pos_df=pos_df.sample(frac = 1).reset_index(drop=True)         #shuffle\n",
        "neg_df=df4.loc[df4['boy'] < L]\n",
        "neg_df=neg_df.sample(frac = 1).reset_index(drop=True)   #shuffle\n",
        "pos_size=pos_df.shape[0]\n",
        "neg_size=neg_df.shape[0]\n",
        "neg_prop=(neg_size)/(pos_size+neg_size)\n",
        "print(\"boys above threshold: \", pos_size)\n",
        "print(\"boys below threshold: \", neg_size)\n",
        "print(\"Percent below threshold: \", round(100*neg_prop,5))\n",
        "print(\"Percent above threshold: \", round(100-100*neg_prop,5))\n"
      ],
      "metadata": {
        "colab": {
          "base_uri": "https://localhost:8080/"
        },
        "outputId": "81f1597a-810e-4d4a-a327-e3f2c467b6a0",
        "id": "ytR3nZsQf7z0"
      },
      "execution_count": 18,
      "outputs": [
        {
          "output_type": "stream",
          "name": "stdout",
          "text": [
            "boys above threshold:  9\n",
            "boys below threshold:  456\n",
            "Percent below threshold:  98.06452\n",
            "Percent above threshold:  1.93548\n"
          ]
        }
      ]
    },
    {
      "cell_type": "markdown",
      "source": [
        "###Export Positive and Negative Dataframes (if desired)"
      ],
      "metadata": {
        "id": "Vapb1V-4f7z1"
      }
    },
    {
      "cell_type": "code",
      "source": [
        "#pos_df.to_csv('pos_df.csv',index=False)\n",
        "#!cp pos_df.csv '/content/drive/My Drive/'\n",
        "#neg_df.to_csv('neg_df.csv',index=False)\n",
        "#!cp neg_df.csv '/content/drive/My Drive/'"
      ],
      "metadata": {
        "id": "YCXL3HPSf7z1"
      },
      "execution_count": 19,
      "outputs": []
    },
    {
      "cell_type": "markdown",
      "source": [
        "###Linear Relationships for Positive and Negative Dataframes"
      ],
      "metadata": {
        "id": "yOjphGP1f7z1"
      }
    },
    {
      "cell_type": "code",
      "source": [
        "pos_array=pos_df.to_numpy()\n",
        "neg_array=neg_df.to_numpy()\n",
        "Ap=0\n",
        "Bp=0\n",
        "Cp=0\n",
        "Dp=0\n",
        "for i in range(0,pos_size):\n",
        "  Ap+=pos_array[i][0]*pos_array[i][0]\n",
        "  Bp+=pos_array[i][0]\n",
        "  Cp+=pos_array[i][0]*pos_array[i][1]\n",
        "  Dp+=pos_array[i][1]\n",
        "An=0\n",
        "Bn=0\n",
        "Cn=0\n",
        "Dn=0\n",
        "for i in range(0,neg_size):\n",
        "  An+=neg_array[i][0]*neg_array[i][0]\n",
        "  Bn+=neg_array[i][0]\n",
        "  Cn+=neg_array[i][0]*neg_array[i][1]\n",
        "  Dn+=neg_array[i][1]\n",
        "ap=Ap/pos_size\n",
        "bp=Bp/pos_size\n",
        "cp=Cp/pos_size\n",
        "dp=Dp/pos_size\n",
        "#\n",
        "an=An/neg_size\n",
        "bn=Bn/neg_size\n",
        "cn=Cn/neg_size\n",
        "dn=Dn/neg_size\n",
        "m_p=(cp-bp*dp)/(ap-bp*bp)\n",
        "b_p=(ap*dp-bp*cp)/(ap-bp*bp)\n",
        "m_n=(cn-bn*dn)/(an-bn*bn)\n",
        "b_n=(an*dn-bn*cn)/(an-bn*bn)\n",
        "print(\"slope (> L): \", round(m_p,3))\n",
        "print(\"intercept (> L): \", round(b_p,3))\n",
        "print(\"slope (< L): \", round(m_n,3))\n",
        "print(\"intercept (< L): \", round(b_n,3))"
      ],
      "metadata": {
        "colab": {
          "base_uri": "https://localhost:8080/"
        },
        "outputId": "46398dd6-b96e-442f-d8b0-23bc46a5e1d4",
        "id": "B1TtGR85f7z1"
      },
      "execution_count": 21,
      "outputs": [
        {
          "output_type": "stream",
          "name": "stdout",
          "text": [
            "slope (> L):  0.083\n",
            "intercept (> L):  2.618\n",
            "slope (< L):  0.301\n",
            "intercept (< L):  -0.047\n"
          ]
        }
      ]
    },
    {
      "cell_type": "markdown",
      "source": [
        "###Accuracies for Hybrid Dataframes with Different Choices of $\\lambda$"
      ],
      "metadata": {
        "id": "-n7sbzJUf7z2"
      }
    },
    {
      "cell_type": "code",
      "source": [
        "L=2\n",
        "lam=-.01\n",
        "lam_list=[]\n",
        "BA_list=[]\n",
        "for i in range(0,101):\n",
        "  lam+=.01\n",
        "  a_lam=lam*ap+(1-lam)*an\n",
        "  b_lam=lam*bp+(1-lam)*bn\n",
        "  c_lam=lam*cp+(1-lam)*cn\n",
        "  d_lam=lam*dp+(1-lam)*dn\n",
        "  m_lam=(c_lam-b_lam*d_lam)/(a_lam-b_lam*b_lam)\n",
        "  b_lam=(a_lam*d_lam-b_lam*c_lam)/(a_lam-b_lam*b_lam)\n",
        "  intercept=(L-b_lam)/m_lam\n",
        "  pos_counter=0\n",
        "  neg_counter=0\n",
        "  for j in range(0,pos_size):\n",
        "    if pos_array[j][0]>=intercept:\n",
        "      pos_counter+=1\n",
        "  for j in range(0,neg_size):\n",
        "    if neg_array[j][0]<intercept:\n",
        "      neg_counter+=1\n",
        "  PA=pos_counter/pos_size\n",
        "  NA=neg_counter/neg_size\n",
        "  BA=(PA+NA)/2\n",
        "  lam_list.append(lam)\n",
        "  BA_list.append(100*BA)\n",
        "  #print(m_lam,b_lam)\n",
        "  #print(\"lambda: \", round(lam,2), \"PA: \", round(PA,3), \"NA: \", round(NA,3), \"BA: \", round(BA,4))\n",
        "  print(\"lambda: \", round(lam,4), \"BA: \", round(BA,5),\",\")\n",
        "  #print(round(BA,5),\",\")"
      ],
      "metadata": {
        "colab": {
          "base_uri": "https://localhost:8080/"
        },
        "outputId": "39959475-9962-4150-c5bb-3b0dd53b48e2",
        "id": "Tgques9vf7z2"
      },
      "execution_count": 32,
      "outputs": [
        {
          "output_type": "stream",
          "name": "stdout",
          "text": [
            "lambda:  0.0 BA:  0.5 ,\n",
            "lambda:  0.01 BA:  0.5 ,\n",
            "lambda:  0.02 BA:  0.5 ,\n",
            "lambda:  0.03 BA:  0.5 ,\n",
            "lambda:  0.04 BA:  0.5 ,\n",
            "lambda:  0.05 BA:  0.5 ,\n",
            "lambda:  0.06 BA:  0.5 ,\n",
            "lambda:  0.07 BA:  0.5 ,\n",
            "lambda:  0.08 BA:  0.5 ,\n",
            "lambda:  0.09 BA:  0.5 ,\n",
            "lambda:  0.1 BA:  0.5 ,\n",
            "lambda:  0.11 BA:  0.5 ,\n",
            "lambda:  0.12 BA:  0.5 ,\n",
            "lambda:  0.13 BA:  0.5 ,\n",
            "lambda:  0.14 BA:  0.5 ,\n",
            "lambda:  0.15 BA:  0.4989 ,\n",
            "lambda:  0.16 BA:  0.4989 ,\n",
            "lambda:  0.17 BA:  0.4989 ,\n",
            "lambda:  0.18 BA:  0.4989 ,\n",
            "lambda:  0.19 BA:  0.4989 ,\n",
            "lambda:  0.2 BA:  0.4989 ,\n",
            "lambda:  0.21 BA:  0.4989 ,\n",
            "lambda:  0.22 BA:  0.4989 ,\n",
            "lambda:  0.23 BA:  0.4989 ,\n",
            "lambda:  0.24 BA:  0.5424 ,\n",
            "lambda:  0.25 BA:  0.5424 ,\n",
            "lambda:  0.26 BA:  0.5424 ,\n",
            "lambda:  0.27 BA:  0.5424 ,\n",
            "lambda:  0.28 BA:  0.59576 ,\n",
            "lambda:  0.29 BA:  0.59576 ,\n",
            "lambda:  0.3 BA:  0.59576 ,\n",
            "lambda:  0.31 BA:  0.59576 ,\n",
            "lambda:  0.32 BA:  0.59576 ,\n",
            "lambda:  0.33 BA:  0.59576 ,\n",
            "lambda:  0.34 BA:  0.70249 ,\n",
            "lambda:  0.35 BA:  0.70249 ,\n",
            "lambda:  0.36 BA:  0.70249 ,\n",
            "lambda:  0.37 BA:  0.70249 ,\n",
            "lambda:  0.38 BA:  0.70249 ,\n",
            "lambda:  0.39 BA:  0.70249 ,\n",
            "lambda:  0.4 BA:  0.70249 ,\n",
            "lambda:  0.41 BA:  0.70249 ,\n",
            "lambda:  0.42 BA:  0.70249 ,\n",
            "lambda:  0.43 BA:  0.70249 ,\n",
            "lambda:  0.44 BA:  0.70249 ,\n",
            "lambda:  0.45 BA:  0.70249 ,\n",
            "lambda:  0.46 BA:  0.70249 ,\n",
            "lambda:  0.47 BA:  0.70249 ,\n",
            "lambda:  0.48 BA:  0.70249 ,\n",
            "lambda:  0.49 BA:  0.70249 ,\n",
            "lambda:  0.5 BA:  0.70249 ,\n",
            "lambda:  0.51 BA:  0.67727 ,\n",
            "lambda:  0.52 BA:  0.67727 ,\n",
            "lambda:  0.53 BA:  0.67727 ,\n",
            "lambda:  0.54 BA:  0.67727 ,\n",
            "lambda:  0.55 BA:  0.67727 ,\n",
            "lambda:  0.56 BA:  0.67727 ,\n",
            "lambda:  0.57 BA:  0.67727 ,\n",
            "lambda:  0.58 BA:  0.67727 ,\n",
            "lambda:  0.59 BA:  0.72734 ,\n",
            "lambda:  0.6 BA:  0.72734 ,\n",
            "lambda:  0.61 BA:  0.72734 ,\n",
            "lambda:  0.62 BA:  0.72734 ,\n",
            "lambda:  0.63 BA:  0.72734 ,\n",
            "lambda:  0.64 BA:  0.69993 ,\n",
            "lambda:  0.65 BA:  0.69993 ,\n",
            "lambda:  0.66 BA:  0.69993 ,\n",
            "lambda:  0.67 BA:  0.69993 ,\n",
            "lambda:  0.68 BA:  0.69993 ,\n",
            "lambda:  0.69 BA:  0.69993 ,\n",
            "lambda:  0.7 BA:  0.69993 ,\n",
            "lambda:  0.71 BA:  0.69664 ,\n",
            "lambda:  0.72 BA:  0.69664 ,\n",
            "lambda:  0.73 BA:  0.69664 ,\n",
            "lambda:  0.74 BA:  0.69664 ,\n",
            "lambda:  0.75 BA:  0.69664 ,\n",
            "lambda:  0.76 BA:  0.71711 ,\n",
            "lambda:  0.77 BA:  0.71711 ,\n",
            "lambda:  0.78 BA:  0.71711 ,\n",
            "lambda:  0.79 BA:  0.71711 ,\n",
            "lambda:  0.8 BA:  0.71711 ,\n",
            "lambda:  0.81 BA:  0.71711 ,\n",
            "lambda:  0.82 BA:  0.71711 ,\n",
            "lambda:  0.83 BA:  0.71711 ,\n",
            "lambda:  0.84 BA:  0.69627 ,\n",
            "lambda:  0.85 BA:  0.69627 ,\n",
            "lambda:  0.86 BA:  0.69627 ,\n",
            "lambda:  0.87 BA:  0.69627 ,\n",
            "lambda:  0.88 BA:  0.69627 ,\n",
            "lambda:  0.89 BA:  0.79605 ,\n",
            "lambda:  0.9 BA:  0.79605 ,\n",
            "lambda:  0.91 BA:  0.79276 ,\n",
            "lambda:  0.92 BA:  0.77851 ,\n",
            "lambda:  0.93 BA:  0.77632 ,\n",
            "lambda:  0.94 BA:  0.7182 ,\n",
            "lambda:  0.95 BA:  0.68969 ,\n",
            "lambda:  0.96 BA:  0.62171 ,\n",
            "lambda:  0.97 BA:  0.56469 ,\n",
            "lambda:  0.98 BA:  0.52522 ,\n",
            "lambda:  0.99 BA:  0.5 ,\n",
            "lambda:  1.0 BA:  0.5 ,\n"
          ]
        }
      ]
    },
    {
      "cell_type": "code",
      "source": [
        "plt.plot(lam_list, BA_list)\n",
        "\n",
        "# Add labels and title\n",
        "plt.xlabel('lambda')\n",
        "plt.ylabel('BA')\n",
        "plt.xlim(0, 1)\n",
        "plt.ylim(0, 100)\n",
        "plt.title('Balanced Accuracy as a Function of Data Balance')\n",
        "\n",
        "# Display the plot\n",
        "plt.show()"
      ],
      "metadata": {
        "colab": {
          "base_uri": "https://localhost:8080/",
          "height": 472
        },
        "id": "zpDCtvuj_02s",
        "outputId": "343dd0ab-f135-408a-b46a-e9c4a4d93e6e"
      },
      "execution_count": 33,
      "outputs": [
        {
          "output_type": "display_data",
          "data": {
            "text/plain": [
              "<Figure size 640x480 with 1 Axes>"
            ],
            "image/png": "[encoded data removed]"
          },
          "metadata": {}
        }
      ]
    },
    {
      "cell_type": "code",
      "source": [],
      "metadata": {
        "id": "TxvJBB7xBLis"
      },
      "execution_count": null,
      "outputs": []
    }
  ]
}